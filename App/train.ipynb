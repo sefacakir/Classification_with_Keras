{
 "cells": [
  {
   "cell_type": "code",
   "execution_count": 1,
   "metadata": {},
   "outputs": [],
   "source": [
    "import tensorflow\n",
    "import matplotlib.pyplot as plt     #grafik gösterimleri için\n",
    "\n",
    "transfer_learning_model = tensorflow.keras.applications.VGG16(weights='imagenet',\n",
    "                  include_top=False,\n",
    "                  input_shape=(224, 224, 3)\n",
    "                  )\n",
    "\n",
    "#transfer_learning_model.summary()"
   ]
  },
  {
   "cell_type": "code",
   "execution_count": 3,
   "metadata": {},
   "outputs": [
    {
     "name": "stdout",
     "output_type": "stream",
     "text": [
      "Model: \"sequential_1\"\n",
      "_________________________________________________________________\n",
      " Layer (type)                Output Shape              Param #   \n",
      "=================================================================\n",
      " vgg16 (Functional)          (None, 7, 7, 512)         14714688  \n",
      "                                                                 \n",
      " flatten (Flatten)           (None, 25088)             0         \n",
      "                                                                 \n",
      "=================================================================\n",
      "Total params: 14,714,688\n",
      "Trainable params: 7,079,424\n",
      "Non-trainable params: 7,635,264\n",
      "_________________________________________________________________\n"
     ]
    },
    {
     "name": "stderr",
     "output_type": "stream",
     "text": [
      "c:\\Users\\cakir\\AppData\\Local\\Programs\\Python\\Python310\\lib\\site-packages\\keras\\optimizer_v2\\rmsprop.py:130: UserWarning: The `lr` argument is deprecated, use `learning_rate` instead.\n",
      "  super(RMSprop, self).__init__(name, **kwargs)\n"
     ]
    }
   ],
   "source": [
    "transfer_learning_model.trainable = True\n",
    "set_trainable = False\n",
    "for layer in transfer_learning_model.layers:\n",
    "    if layer.name == 'block5_conv1':\n",
    "        set_trainable = True\n",
    "    if set_trainable:\n",
    "        layer.trainable = True\n",
    "    else:\n",
    "        layer.trainable = False\n",
    "\n",
    "#oluşturduğumuz modelin ardışık olduğunu belirliyoruz. Sequential\n",
    "#veriler soldan sağa doğru akıyor.\n",
    "model = tensorflow.keras.models.Sequential()        \n",
    "\n",
    "\n",
    "#Burda vgg16 mimarisindeki convolüsyon ve pooling katmanları ekleniyor.\n",
    "#aynı zamanda imagenet ağırlıkları da alınıyor.\n",
    "model.add(transfer_learning_model)\n",
    "model.add(tensorflow.keras.layers.Flatten())\n",
    "\n",
    "model.summary()\n",
    "\n",
    "\n",
    "#dense katmanı, içerisinde bir işlem yapmadan, sadece verileri verilern aktivasyon fonksiyonuna sokuyor.\n",
    "#bu katmanda convolüsyon yada pooling işlemleri yok.\n",
    "model.add(tensorflow.keras.layers.Dense(256,activation='relu'))\n",
    "\n",
    "#softmax çıktılarımızı 0-1 arasına sıkıştırıyor. % üzerinden tahmin yapmak için gerekli.\n",
    "model.add(tensorflow.keras.layers.Dense(3,activation='softmax'))\n",
    "\n",
    "#model.summary()\n",
    "\n",
    "\n",
    "model.compile(loss='binary_crossentropy',   #hatasını hangi fonksiyonu kullanarak ölçsün?\n",
    "              #optimizer = tensorflow.keras.optimizers.Adam(learning_rate= 0.001,), #\n",
    "              optimizer=tensorflow.keras.optimizers.RMSprop(lr=1e-5),  #modelim kendisini nasıl geliştirsin, neye göre iyileştirsin.\n",
    "                                                                        #lr = learning rate -> öğrenme katsayısı\n",
    "              metrics=['acc'])  #accuracy göre performansı değerlendiriyoruz.\n",
    "\n",
    "#model.summary()"
   ]
  },
  {
   "cell_type": "code",
   "execution_count": 19,
   "metadata": {},
   "outputs": [
    {
     "name": "stdout",
     "output_type": "stream",
     "text": [
      "Found 1242 images belonging to 3 classes.\n",
      "Found 114 images belonging to 3 classes.\n"
     ]
    }
   ],
   "source": [
    "train_path = r'C:\\MyProject\\397199_397209\\Data\\ThreeClassDataBase\\Train'\n",
    "validation_path = r'C:\\MyProject\\397199_397209\\Data\\ThreeClassDataBase\\Validation'\n",
    "test_path = r'C:\\MyProject\\397199_397209\\Data\\ThreeClassDataBase\\Test'\n",
    "\n",
    "#data augmantation, resim çoğaltma teknikleri\n",
    "train_datagen = tensorflow.keras.preprocessing.image.ImageDataGenerator(\n",
    "      rescale=1./255,           # piksel değerleri 0-255'den 0-1 arasına getiriliyor.\n",
    "      rotation_range=40,        #random 0-40 arasında döndürüyo\n",
    "      width_shift_range=0.2,    #kaydırma işlemleri\n",
    "      height_shift_range=0.2,   #kaydırma işlemleri\n",
    "      shear_range=0.2,          #kırpma işlemleri\n",
    "      zoom_range=0.2,           #yakınlaştırma\n",
    "      horizontal_flip = False,  #burası önemli, aynalama denebilir.\n",
    "      #brightness_range = [0.3, 1.0],\n",
    "      fill_mode='nearest'       #kaydırma işlemlerinde boş pixel doldurma\n",
    "      )\n",
    "\n",
    "train_generator = train_datagen.flow_from_directory(\n",
    "        train_path,\n",
    "        target_size=(224, 224),\n",
    "        batch_size=16,  #aynı anda kaç adet verinin işleneceğidir. Aynı anda 16 verinin hatası hesaplanır. veriler 16'şar 16'şar eğitilir.\n",
    "                        #düşük olması demek, fazla optimizasyon hesaplaması anlamına gelir. Eğitim süresi daha uzun olur.\n",
    "        )\n",
    "\n",
    "validation_datagen = tensorflow.keras.preprocessing.image.ImageDataGenerator(\n",
    "        rescale=1./255\n",
    "        )\n",
    "\n",
    "validation_generator = validation_datagen.flow_from_directory(\n",
    "        validation_path,\n",
    "        target_size=(224, 224),\n",
    "        batch_size=16,\n",
    "        )"
   ]
  },
  {
   "cell_type": "code",
   "execution_count": 20,
   "metadata": {},
   "outputs": [
    {
     "name": "stdout",
     "output_type": "stream",
     "text": [
      "Epoch 1/5\n",
      "15/15 [==============================] - 31s 2s/step - loss: 0.6757 - acc: 0.3208 - val_loss: 0.6682 - val_acc: 0.2500\n",
      "Epoch 2/5\n",
      "15/15 [==============================] - 29s 2s/step - loss: 0.6324 - acc: 0.4083 - val_loss: 0.6271 - val_acc: 0.4375\n",
      "Epoch 3/5\n",
      "15/15 [==============================] - 33s 2s/step - loss: 0.6381 - acc: 0.3750 - val_loss: 0.6244 - val_acc: 0.3125\n",
      "Epoch 4/5\n",
      "15/15 [==============================] - 33s 2s/step - loss: 0.6311 - acc: 0.3833 - val_loss: 0.5933 - val_acc: 0.5625\n",
      "Epoch 5/5\n",
      "15/15 [==============================] - 33s 2s/step - loss: 0.6208 - acc: 0.3958 - val_loss: 0.5775 - val_acc: 0.5625\n"
     ]
    }
   ],
   "source": [
    "class MyThresholdCallback(tensorflow.keras.callbacks.Callback):\n",
    "    def __init__(self, acc_limit,val_limit):\n",
    "        super(MyThresholdCallback, self).__init__()\n",
    "        self.acc_limit = acc_limit\n",
    "        self.val_limit = val_limit\n",
    "    def on_epoch_end(self, epoch, logs=None): \n",
    "        acc = logs[\"acc\"]\n",
    "        val_acc = logs[\"val_acc\"]\n",
    "        if val_acc >= self.val_limit :\n",
    "            if acc >= self.acc_limit :\n",
    "                self.model.stop_training = True\n",
    "\n",
    "callbacks = MyThresholdCallback(acc_limit=0.7, val_limit=1)\n",
    "\n",
    "\n",
    "history = model.fit( #eğitim takibi\n",
    "      train_generator,\n",
    "      steps_per_epoch=15, #\n",
    "      epochs=5,\n",
    "      validation_data=validation_generator,\n",
    "      validation_steps=1,\n",
    "      callbacks=[callbacks]\n",
    "      )"
   ]
  },
  {
   "cell_type": "code",
   "execution_count": 22,
   "metadata": {},
   "outputs": [
    {
     "name": "stdout",
     "output_type": "stream",
     "text": [
      "Found 291 images belonging to 3 classes.\n"
     ]
    }
   ],
   "source": [
    "model.save(r'C:\\MyProject\\397199_397209\\Models\\BunuSil_model.h5')\n",
    "\n",
    "test_datagen = tensorflow.keras.preprocessing.image.ImageDataGenerator(\n",
    "        rescale=1./255\n",
    "        )\n",
    "\n",
    "test_generator = test_datagen.flow_from_directory(\n",
    "        test_path,\n",
    "        target_size=(224, 224),\n",
    "        batch_size=16,\n",
    "        )\n"
   ]
  },
  {
   "cell_type": "code",
   "execution_count": 23,
   "metadata": {},
   "outputs": [
    {
     "name": "stdout",
     "output_type": "stream",
     "text": [
      "dict_keys(['loss', 'acc', 'val_loss', 'val_acc'])\n"
     ]
    },
    {
     "data": {
      "image/png": "[encoded data removed]",
      "text/plain": [
       "<Figure size 432x288 with 1 Axes>"
      ]
     },
     "metadata": {
      "needs_background": "light"
     },
     "output_type": "display_data"
    },
    {
     "name": "stderr",
     "output_type": "stream",
     "text": [
      "C:\\Users\\cakir\\AppData\\Local\\Temp\\ipykernel_7572\\100370763.py:14: UserWarning: `Model.evaluate_generator` is deprecated and will be removed in a future version. Please use `Model.evaluate`, which supports generators.\n",
      "  test_loss, test_acc = model.evaluate_generator(test_generator, steps=50)\n"
     ]
    },
    {
     "name": "stdout",
     "output_type": "stream",
     "text": [
      "WARNING:tensorflow:Your input ran out of data; interrupting training. Make sure that your dataset or generator can generate at least `steps_per_epoch * epochs` batches (in this case, 50 batches). You may need to use the repeat() function when building your dataset.\n",
      "test acc: 0.5326460599899292\n",
      "lost acc: 0.5879021286964417\n"
     ]
    }
   ],
   "source": [
    "print(history.history.keys())\n",
    "#  \"Accuracy\"\n",
    "plt.plot(history.history['acc'])\n",
    "plt.plot(history.history['loss'])\n",
    "plt.plot(history.history['val_acc'])\n",
    "plt.plot(history.history['val_loss'])\n",
    "plt.title('model accuracy')\n",
    "plt.ylabel('accuracy')\n",
    "plt.xlabel('epoch')\n",
    "plt.legend(['train_acc', 'train_loss', 'validation_acc', 'validation_loss'], loc='upper left')\n",
    "plt.show()\n",
    "\n",
    "# Printing the test results.\n",
    "test_loss, test_acc = model.evaluate_generator(test_generator, steps=50)\n",
    "print('test acc:', test_acc)\n",
    "print('lost acc:', test_loss)\n"
   ]
  }
 ],
 "metadata": {
  "interpreter": {
   "hash": "0630883d7db5937b371f0b4c15dc901a2c670e082f90d03b69e54f659a3d6081"
  },
  "kernelspec": {
   "display_name": "Python 3.10.2 64-bit",
   "language": "python",
   "name": "python3"
  },
  "language_info": {
   "codemirror_mode": {
    "name": "ipython",
    "version": 3
   },
   "file_extension": ".py",
   "mimetype": "text/x-python",
   "name": "python",
   "nbconvert_exporter": "python",
   "pygments_lexer": "ipython3",
   "version": "3.10.2"
  },
  "orig_nbformat": 4
 },
 "nbformat": 4,
 "nbformat_minor": 2
}
